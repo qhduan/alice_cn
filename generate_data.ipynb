{
 "cells": [
  {
   "cell_type": "code",
   "execution_count": 2,
   "metadata": {},
   "outputs": [],
   "source": [
    "import os\n",
    "import re\n",
    "import json\n",
    "import xml.etree.ElementTree as ET"
   ]
  },
  {
   "cell_type": "code",
   "execution_count": null,
   "metadata": {},
   "outputs": [],
   "source": []
  },
  {
   "cell_type": "code",
   "execution_count": 11,
   "metadata": {},
   "outputs": [],
   "source": [
    "def replace_content(t):\n",
    "    return re.sub(r'<bot name=\"([^\"]+)\"\\s*/>', r'__\\1__', t)"
   ]
  },
  {
   "cell_type": "code",
   "execution_count": null,
   "metadata": {},
   "outputs": [],
   "source": []
  },
  {
   "cell_type": "code",
   "execution_count": 18,
   "metadata": {},
   "outputs": [],
   "source": [
    "# path = './aiml-en-us-foundation-alice/ai.aiml'"
   ]
  },
  {
   "cell_type": "code",
   "execution_count": 18,
   "metadata": {},
   "outputs": [],
   "source": [
    "data = []\n",
    "for dirpath, _, filenames in os.walk('./aiml-en-us-foundation-alice/'):\n",
    "    filenames = sorted([x for x in filenames if x.endswith('.aiml')])\n",
    "    for filename in filenames:\n",
    "        path = os.path.join(dirpath, filename)\n",
    "        content = open(path).read()\n",
    "        content = replace_content(content)\n",
    "        root = ET.fromstring(content)\n",
    "        for category in root.findall('category'):\n",
    "            patterns = category.findall('pattern')\n",
    "            templates = category.findall('template')\n",
    "            for pattern in patterns:\n",
    "                for template in templates:\n",
    "                    if hasattr(pattern, 'text') \\\n",
    "                    and hasattr(template, 'text') \\\n",
    "                    and isinstance(pattern.text, str) \\\n",
    "                    and isinstance(template.text, str) \\\n",
    "                    and len(pattern.text) > 0 \\\n",
    "                    and len(template.text) > 0:\n",
    "                        q = pattern.text.lower()\n",
    "                        a = template.text\n",
    "                        a = a.replace('\\n', ' ')\n",
    "                        entropy = 0\n",
    "                        while '*' in q:\n",
    "                            q = q.replace('*', '__entropy{}__'.format(entropy), 1)\n",
    "                            entropy += 1\n",
    "                        data.append((q, a, os.path.basename(path), True))\n",
    "                        qq = re.sub(r'\\s*__entropy[0-9]+__[\\s\\.]*$', '', q)\n",
    "                        if qq != q:\n",
    "                            data.append((qq, a, os.path.basename(path), False))"
   ]
  },
  {
   "cell_type": "code",
   "execution_count": 19,
   "metadata": {},
   "outputs": [],
   "source": [
    "json.dump(data, open('alice.json', 'w'), indent=4, ensure_ascii=False)"
   ]
  },
  {
   "cell_type": "code",
   "execution_count": null,
   "metadata": {},
   "outputs": [],
   "source": []
  }
 ],
 "metadata": {
  "kernelspec": {
   "display_name": "Python 3",
   "language": "python",
   "name": "python3"
  },
  "language_info": {
   "codemirror_mode": {
    "name": "ipython",
    "version": 3
   },
   "file_extension": ".py",
   "mimetype": "text/x-python",
   "name": "python",
   "nbconvert_exporter": "python",
   "pygments_lexer": "ipython3",
   "version": "3.5.2"
  }
 },
 "nbformat": 4,
 "nbformat_minor": 2
}
